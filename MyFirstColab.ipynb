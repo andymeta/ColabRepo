{
  "nbformat": 4,
  "nbformat_minor": 0,
  "metadata": {
    "colab": {
      "name": "MyFirstColab.ipynb",
      "provenance": [],
      "collapsed_sections": [],
      "authorship_tag": "ABX9TyNFvyL45PqDdaCrp67ygRjX",
      "include_colab_link": true
    },
    "kernelspec": {
      "name": "python3",
      "display_name": "Python 3"
    },
    "language_info": {
      "name": "python"
    }
  },
  "cells": [
    {
      "cell_type": "markdown",
      "metadata": {
        "id": "view-in-github",
        "colab_type": "text"
      },
      "source": [
        "<a href=\"https://colab.research.google.com/github/andymeta/ColabRepo/blob/main/MyFirstColab.ipynb\" target=\"_parent\"><img src=\"https://colab.research.google.com/assets/colab-badge.svg\" alt=\"Open In Colab\"/></a>"
      ]
    },
    {
      "cell_type": "code",
      "execution_count": null,
      "metadata": {
        "colab": {
          "base_uri": "https://localhost:8080/"
        },
        "id": "-mgrxc0kc8LV",
        "outputId": "13587d48-1e2f-4306-9781-374f49e29983"
      },
      "outputs": [
        {
          "output_type": "execute_result",
          "data": {
            "text/plain": [
              "range"
            ]
          },
          "metadata": {},
          "execution_count": 1
        }
      ],
      "source": [
        "my= range(2,8)\n",
        "type(my)"
      ]
    },
    {
      "cell_type": "code",
      "source": [
        "s = \"imag-%d.jpg\" %(1)\n",
        "s"
      ],
      "metadata": {
        "colab": {
          "base_uri": "https://localhost:8080/",
          "height": 35
        },
        "id": "vAKyV1egi068",
        "outputId": "47c49dfc-404e-46da-8a19-49769267eb77"
      },
      "execution_count": null,
      "outputs": [
        {
          "output_type": "execute_result",
          "data": {
            "text/plain": [
              "'imag-1.jpg'"
            ],
            "application/vnd.google.colaboratory.intrinsic+json": {
              "type": "string"
            }
          },
          "metadata": {},
          "execution_count": 3
        }
      ]
    },
    {
      "cell_type": "code",
      "source": [
        "!/opt/bin/nvidia-smi"
      ],
      "metadata": {
        "colab": {
          "base_uri": "https://localhost:8080/"
        },
        "id": "QoMNoztt4Gw-",
        "outputId": "59c5d0b4-773b-4794-9c1e-7c7e55c20482"
      },
      "execution_count": null,
      "outputs": [
        {
          "output_type": "stream",
          "name": "stdout",
          "text": [
            "Tue May  3 07:46:53 2022       \n",
            "+-----------------------------------------------------------------------------+\n",
            "| NVIDIA-SMI 460.32.03    Driver Version: 460.32.03    CUDA Version: 11.2     |\n",
            "|-------------------------------+----------------------+----------------------+\n",
            "| GPU  Name        Persistence-M| Bus-Id        Disp.A | Volatile Uncorr. ECC |\n",
            "| Fan  Temp  Perf  Pwr:Usage/Cap|         Memory-Usage | GPU-Util  Compute M. |\n",
            "|                               |                      |               MIG M. |\n",
            "|===============================+======================+======================|\n",
            "|   0  Tesla T4            Off  | 00000000:00:04.0 Off |                    0 |\n",
            "| N/A   39C    P8     9W /  70W |      0MiB / 15109MiB |      0%      Default |\n",
            "|                               |                      |                  N/A |\n",
            "+-------------------------------+----------------------+----------------------+\n",
            "                                                                               \n",
            "+-----------------------------------------------------------------------------+\n",
            "| Processes:                                                                  |\n",
            "|  GPU   GI   CI        PID   Type   Process name                  GPU Memory |\n",
            "|        ID   ID                                                   Usage      |\n",
            "|=============================================================================|\n",
            "|  No running processes found                                                 |\n",
            "+-----------------------------------------------------------------------------+\n"
          ]
        }
      ]
    },
    {
      "cell_type": "markdown",
      "source": [
        "# New content\n"
      ],
      "metadata": {
        "id": "gnvQgboijfDE"
      }
    },
    {
      "cell_type": "code",
      "source": [
        "type(1.0)"
      ],
      "metadata": {
        "colab": {
          "base_uri": "https://localhost:8080/"
        },
        "id": "AxRs6I3XAmNa",
        "outputId": "90746847-3549-40b8-faa0-f255ce553166"
      },
      "execution_count": null,
      "outputs": [
        {
          "output_type": "execute_result",
          "data": {
            "text/plain": [
              "float"
            ]
          },
          "metadata": {},
          "execution_count": 3
        }
      ]
    },
    {
      "cell_type": "code",
      "source": [
        "i=5\n",
        "while i>1:\n",
        "  print(\"%d\" %i)\n",
        "  i -=1"
      ],
      "metadata": {
        "colab": {
          "base_uri": "https://localhost:8080/"
        },
        "id": "uZm4PRrBAxeT",
        "outputId": "964c7db4-8607-4132-ece2-a1d619826c1c"
      },
      "execution_count": null,
      "outputs": [
        {
          "output_type": "stream",
          "name": "stdout",
          "text": [
            "5\n",
            "4\n",
            "3\n",
            "2\n"
          ]
        }
      ]
    },
    {
      "cell_type": "code",
      "source": [
        "mydics={\"first\":'3',\"sencond\":8,\"fifth\":99}\n",
        "mydics.popitem()\n",
        "for k,v in mydics.items():\n",
        "  print(\"k=%s, v=%s\" %(k,type(v)))"
      ],
      "metadata": {
        "colab": {
          "base_uri": "https://localhost:8080/"
        },
        "id": "-2Tq9WkQJr9j",
        "outputId": "88ddb8ec-4069-4ec6-9e51-d8c8d46aabac"
      },
      "execution_count": null,
      "outputs": [
        {
          "output_type": "stream",
          "name": "stdout",
          "text": [
            "k=first, v=<class 'str'>\n",
            "k=sencond, v=<class 'int'>\n"
          ]
        }
      ]
    },
    {
      "cell_type": "code",
      "source": [
        "for k in mydics.keys():\n",
        "  print(\"%s\" %k)\n",
        "type(k)"
      ],
      "metadata": {
        "colab": {
          "base_uri": "https://localhost:8080/"
        },
        "id": "QnvAi96ANPZd",
        "outputId": "dc1d12f3-5f6e-4688-8672-e9c6950e0358"
      },
      "execution_count": null,
      "outputs": [
        {
          "output_type": "stream",
          "name": "stdout",
          "text": [
            "first\n",
            "sencond\n",
            "fifth\n"
          ]
        },
        {
          "output_type": "execute_result",
          "data": {
            "text/plain": [
              "str"
            ]
          },
          "metadata": {},
          "execution_count": 25
        }
      ]
    },
    {
      "cell_type": "code",
      "source": [
        "for i in ['first','ss',5]:\n",
        "  print(\"%s\" %(type(i)))"
      ],
      "metadata": {
        "colab": {
          "base_uri": "https://localhost:8080/"
        },
        "id": "43dEGjmyNqjY",
        "outputId": "e2d8af9e-6f28-4e9f-c81c-a644d5e292c4"
      },
      "execution_count": null,
      "outputs": [
        {
          "output_type": "stream",
          "name": "stdout",
          "text": [
            "<class 'str'>\n",
            "<class 'str'>\n",
            "<class 'int'>\n"
          ]
        }
      ]
    },
    {
      "cell_type": "code",
      "source": [
        "while True:\n",
        "  inputc=input(\"please input some characters:\")\n",
        "  if inputc=='stop':\n",
        "    break\n"
      ],
      "metadata": {
        "colab": {
          "base_uri": "https://localhost:8080/"
        },
        "id": "XqiRSddhN3wv",
        "outputId": "1ef23dd3-008f-4655-f5ea-2f1279cbde25"
      },
      "execution_count": null,
      "outputs": [
        {
          "name": "stdout",
          "output_type": "stream",
          "text": [
            "please input some characters:skjf\n",
            "please input some characters:ajfadf \n",
            "please input some characters:stop\n"
          ]
        }
      ]
    },
    {
      "cell_type": "code",
      "source": [
        "def func1(str):\n",
        "  \"\"\"\n",
        "  my first function definition.\n",
        "  \"\"\"\n",
        "  str = 'x'\n",
        "  print(str)\n",
        "func1.__name__\n",
        "s = 'sky'\n",
        "func1(s)\n",
        "s"
      ],
      "metadata": {
        "colab": {
          "base_uri": "https://localhost:8080/",
          "height": 53
        },
        "id": "QkI731g3c3bG",
        "outputId": "4597e444-b0a6-49d2-ed19-645884495746"
      },
      "execution_count": null,
      "outputs": [
        {
          "output_type": "stream",
          "name": "stdout",
          "text": [
            "x\n"
          ]
        },
        {
          "output_type": "execute_result",
          "data": {
            "text/plain": [
              "'sky'"
            ],
            "application/vnd.google.colaboratory.intrinsic+json": {
              "type": "string"
            }
          },
          "metadata": {},
          "execution_count": 48
        }
      ]
    },
    {
      "cell_type": "code",
      "source": [
        "func1.__file__"
      ],
      "metadata": {
        "colab": {
          "base_uri": "https://localhost:8080/",
          "height": 173
        },
        "id": "MqrVe_jedzdS",
        "outputId": "d01c3a77-6c2c-49e1-f86e-c8109b08f5cf"
      },
      "execution_count": null,
      "outputs": [
        {
          "output_type": "error",
          "ename": "AttributeError",
          "evalue": "ignored",
          "traceback": [
            "\u001b[0;31m---------------------------------------------------------------------------\u001b[0m",
            "\u001b[0;31mAttributeError\u001b[0m                            Traceback (most recent call last)",
            "\u001b[0;32m<ipython-input-43-8e5b39e2cbc2>\u001b[0m in \u001b[0;36m<module>\u001b[0;34m()\u001b[0m\n\u001b[0;32m----> 1\u001b[0;31m \u001b[0mfunc1\u001b[0m\u001b[0;34m.\u001b[0m\u001b[0m__file__\u001b[0m\u001b[0;34m\u001b[0m\u001b[0;34m\u001b[0m\u001b[0m\n\u001b[0m",
            "\u001b[0;31mAttributeError\u001b[0m: 'function' object has no attribute '__file__'"
          ]
        }
      ]
    },
    {
      "cell_type": "code",
      "source": [
        "str = 'asff'\n",
        "print(id(str))\n",
        "str='sfdfdf'\n",
        "print(id(str))\n",
        "list1=[1,2,'22']\n",
        "print(id(list1))\n",
        "list1=[2,3,'44',3]\n",
        "print(id(list1))"
      ],
      "metadata": {
        "colab": {
          "base_uri": "https://localhost:8080/"
        },
        "id": "MGs9ZRdrfqE0",
        "outputId": "19a58308-1bed-4310-9207-f1458ad95533"
      },
      "execution_count": null,
      "outputs": [
        {
          "output_type": "stream",
          "name": "stdout",
          "text": [
            "139769128643568\n",
            "139769100899056\n",
            "139769068888704\n",
            "139769068787104\n"
          ]
        }
      ]
    },
    {
      "cell_type": "code",
      "source": [
        "def judgeType(inputParam):\n",
        "  if isinstance(inputParam,int):\n",
        "    print(\"type is %s\" %('int'))\n",
        "  elif isinstance(inputParam,list):\n",
        "    print('type is list')\n",
        "\n",
        "judgeType(33)\n",
        "judgeType([3,55,'22'])\n",
        "\n",
        "  \n",
        "\n",
        "  "
      ],
      "metadata": {
        "id": "1TQGQ9Qx-Sat",
        "colab": {
          "base_uri": "https://localhost:8080/"
        },
        "outputId": "c591b76f-f02a-4226-8e7e-4a6a5eace251"
      },
      "execution_count": 4,
      "outputs": [
        {
          "output_type": "stream",
          "name": "stdout",
          "text": [
            "type is int\n",
            "type is list\n"
          ]
        }
      ]
    },
    {
      "cell_type": "code",
      "source": [
        "import this"
      ],
      "metadata": {
        "colab": {
          "base_uri": "https://localhost:8080/"
        },
        "id": "9AFPj-EpI17r",
        "outputId": "2cc807dc-6b2d-47ad-e034-b30193070772"
      },
      "execution_count": 1,
      "outputs": [
        {
          "output_type": "stream",
          "name": "stdout",
          "text": [
            "The Zen of Python, by Tim Peters\n",
            "\n",
            "Beautiful is better than ugly.\n",
            "Explicit is better than implicit.\n",
            "Simple is better than complex.\n",
            "Complex is better than complicated.\n",
            "Flat is better than nested.\n",
            "Sparse is better than dense.\n",
            "Readability counts.\n",
            "Special cases aren't special enough to break the rules.\n",
            "Although practicality beats purity.\n",
            "Errors should never pass silently.\n",
            "Unless explicitly silenced.\n",
            "In the face of ambiguity, refuse the temptation to guess.\n",
            "There should be one-- and preferably only one --obvious way to do it.\n",
            "Although that way may not be obvious at first unless you're Dutch.\n",
            "Now is better than never.\n",
            "Although never is often better than *right* now.\n",
            "If the implementation is hard to explain, it's a bad idea.\n",
            "If the implementation is easy to explain, it may be a good idea.\n",
            "Namespaces are one honking great idea -- let's do more of those!\n"
          ]
        }
      ]
    },
    {
      "cell_type": "code",
      "source": [
        "class Fridge:\n",
        "  def __init__(self, items={}):\n",
        "    if not isinstance(items,dict):\n",
        "      raise TypeError(\"Fridge need a dictionary for initialization\")\n",
        "    self.items = items\n",
        "    return\n",
        "  \n",
        "  def __add_multi(self, foodname, quantity):\n",
        "    if(foodname not in self.items):\n",
        "      self.items[foodname] = 0\n",
        "    self.items[foodname] += quantity\n",
        "\n",
        "foods={'apple':2, 'orange':5, 'banana':88}\n",
        "f=Fridge(foods)\n",
        "f.items['orange'] = 2\n",
        "print('orange number is %d' %(foods['orange']))\n",
        "for item in foods.items():\n",
        "  print(item)\n",
        "foodlist = list(foods.items())\n",
        "foodlist[0]"
      ],
      "metadata": {
        "colab": {
          "base_uri": "https://localhost:8080/"
        },
        "id": "AwZBiMgsvaAz",
        "outputId": "d5a179de-820e-4069-b8bb-bfd890f652e6"
      },
      "execution_count": 13,
      "outputs": [
        {
          "output_type": "stream",
          "name": "stdout",
          "text": [
            "orange number is 2\n",
            "('apple', 2)\n",
            "('orange', 2)\n",
            "('banana', 88)\n"
          ]
        },
        {
          "output_type": "execute_result",
          "data": {
            "text/plain": [
              "('apple', 2)"
            ]
          },
          "metadata": {},
          "execution_count": 13
        }
      ]
    },
    {
      "cell_type": "code",
      "source": [
        ""
      ],
      "metadata": {
        "id": "IMVY3WhVFTL-"
      },
      "execution_count": null,
      "outputs": []
    }
  ]
}